{
  "cells": [
    {
      "cell_type": "markdown",
      "metadata": {
        "id": "view-in-github",
        "colab_type": "text"
      },
      "source": [
        "<a href=\"https://colab.research.google.com/github/LeemojiReddy/Newchic/blob/main/orcs.ipynb\" target=\"_parent\"><img src=\"https://colab.research.google.com/assets/colab-badge.svg\" alt=\"Open In Colab\"/></a>"
      ]
    },
    {
      "cell_type": "markdown",
      "metadata": {
        "id": "FH4_w57Io0A_"
      },
      "source": [
        "#srihari workspace"
      ]
    },
    {
      "cell_type": "markdown",
      "metadata": {
        "id": "ijBAI2lCraeM"
      },
      "source": [
        "#**Project Name** - Online Retail Customer Segmentation"
      ]
    },
    {
      "cell_type": "markdown",
      "metadata": {
        "id": "p0mNyrpUrjwU"
      },
      "source": [
        "##### **Project Type**    - Unsupervised\n",
        "##### **Contribution**    - Individual"
      ]
    },
    {
      "cell_type": "markdown",
      "metadata": {
        "id": "DgFWuZikrnKt"
      },
      "source": [
        "# **Project Summary -**"
      ]
    },
    {
      "cell_type": "markdown",
      "metadata": {
        "id": "W_q2z50mrr1c"
      },
      "source": [
        "# **Summary:**\n",
        "\n",
        "I recieved a data frame with following features(columns):\n",
        "\n",
        "\n",
        "InvoiceNo: Invoice number. Nominal, a 6-digit integral number uniquely assigned to each transaction. If this code starts with letter 'c', it indicates a cancellation.\n",
        "\n",
        "StockCode: Product (item) code. Nominal, a 5-digit integral number uniquely assigned to each distinct product.\n",
        "\n",
        "Description: Product (item) name. Nominal.\n",
        "\n",
        "Quantity: The quantities of each product (item) per transaction. Numeric.\n",
        "InvoiceDate: Invoice Date and time. Numeric, the day and time when each transaction was generated.\n",
        "\n",
        "UnitPrice: Unit price. Numeric, Product price per unit in sterling.\n",
        "CustomerID: Customer number. Nominal, a 5-digit integral number uniquely assigned to each customer.\n",
        "\n",
        "Country: Country name. Nominal, the name of the country where each customer resides.\n",
        "\n",
        "The cx of any retain company falls under different category and sub groups. Those groups can be based on country, time of purchase, types of purchase, total purchase and so on. Segementating them into multiple groups using ML models helps the company for better service, keeping good and old cx happy and targeted advertisment, etc.\n",
        "\n",
        "I started my project with dropping null values, as there was no good way to replace them. I also stripped date, month, time, etc. in different column for better analysis. I also made a new feature of total cost a cx spend.\n",
        "Further, I analysed which countries have highest number of cx, months with high orders, products that gets most demand, etc. I also made graph to have a clear visulization.\n",
        "\n",
        "I also noticed a number of cx cancelled the order, I dropped cx with negative total cost before modelling. The company is ideally suggested to look into why some cx cancelled orders.\n",
        "\n",
        "I did the RFM modelling, thus analysed the cx on basis of Recency, Frequency, Monetary Value. In the last part I used different ML models to cluster data into different groups. According  to models, following are the ideal number of clusters to be divided.\n",
        "\n",
        "![Screenshot_20230106_185132.png](data:image/png;base64,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)"
      ]
    },
    {
      "cell_type": "markdown",
      "metadata": {
        "id": "20wdkM49ryXs"
      },
      "source": [
        "# **GitHub Link -**"
      ]
    },
    {
      "cell_type": "markdown",
      "metadata": {
        "id": "h1o69JH3Eqqn"
      },
      "source": [
        "https://github.com/akashkivani/almabetter-Online-Retail-Customer-Segmentation-Project/blob/main/ML_unsupervised_submission.ipynb"
      ]
    },
    {
      "cell_type": "markdown",
      "metadata": {
        "id": "TCitaG_3slyE"
      },
      "source": [
        "# **Problem Statement**\n"
      ]
    },
    {
      "cell_type": "markdown",
      "metadata": {
        "id": "n2IFFRLCsrBs"
      },
      "source": [
        "In this project, your task is to identify major customer segments on a transnational data set which contains all the transactions occurring between 01/12/2010 and 09/12/2011 for a UK-based and registered non-store online retail.The company mainly sells unique all-occasion gifts. Many customers of the company are wholesalers."
      ]
    },
    {
      "cell_type": "markdown",
      "metadata": {
        "id": "afLyO4xiouYA"
      },
      "source": [
        "#Leemoji workspace"
      ]
    },
    {
      "cell_type": "markdown",
      "metadata": {
        "id": "N1ltGX3Ntit8"
      },
      "source": [
        "##***1. Know Your Data***"
      ]
    },
    {
      "cell_type": "markdown",
      "metadata": {
        "id": "iCbtatlvuBgl"
      },
      "source": [
        "###***importing libraries***"
      ]
    },
    {
      "cell_type": "code",
      "execution_count": 2,
      "metadata": {
        "id": "d128W304tF1v"
      },
      "outputs": [],
      "source": [
        "# Import Libraries\n",
        "import numpy as np\n",
        "import pandas as pd\n",
        "import matplotlib.pyplot as plt\n",
        "import seaborn as sns\n",
        "import warnings\n",
        "warnings.filterwarnings('ignore')\n",
        "%matplotlib inline\n",
        "\n",
        "import datetime as dt\n",
        "from sklearn.preprocessing import StandardScaler\n",
        "from sklearn.cluster import KMeans\n",
        "from sklearn.metrics import silhouette_samples, silhouette_score\n",
        "import matplotlib.cm as cm\n",
        "from yellowbrick.cluster import KElbowVisualizer\n",
        "from pylab import rcParams\n",
        "from sklearn.cluster import AgglomerativeClustering\n",
        "import scipy.cluster.hierarchy as sch\n",
        "from prettytable import PrettyTable"
      ]
    },
    {
      "cell_type": "markdown",
      "metadata": {
        "id": "TYJ4BYm8uVuv"
      },
      "source": [
        "###***Dataset Loading***"
      ]
    },
    {
      "cell_type": "code",
      "execution_count": 10,
      "metadata": {
        "id": "0G-xXZy6ugT9",
        "colab": {
          "base_uri": "https://localhost:8080/"
        },
        "outputId": "122dc2a8-c20b-4824-9730-ff8ad2000782"
      },
      "outputs": [
        {
          "output_type": "stream",
          "name": "stdout",
          "text": [
            "Drive already mounted at /content/drive; to attempt to forcibly remount, call drive.mount(\"/content/drive\", force_remount=True).\n"
          ]
        }
      ],
      "source": [
        "#LOAD DATASET\n",
        "from google.colab import drive\n",
        "drive.mount('/content/drive')\n",
        "df=pd.read_excel('/content/drive/My Drive/Online Retail Customer Segmantation Dataset.xlsx')"
      ]
    },
    {
      "cell_type": "code",
      "source": [],
      "metadata": {
        "colab": {
          "base_uri": "https://localhost:8080/"
        },
        "id": "VLn6lEDlnCBl",
        "outputId": "71a08aa9-eb9b-4578-d32a-501afaf3f99e"
      },
      "execution_count": 7,
      "outputs": [
        {
          "output_type": "stream",
          "name": "stdout",
          "text": [
            "Mounted at /content/drive\n"
          ]
        }
      ]
    },
    {
      "cell_type": "markdown",
      "metadata": {
        "id": "Hm87A5d-3OZB"
      },
      "source": [
        "### Dataset First View"
      ]
    },
    {
      "cell_type": "code",
      "execution_count": null,
      "metadata": {
        "colab": {
          "base_uri": "https://localhost:8080/",
          "height": 243
        },
        "id": "zTmORZQs3Qby",
        "outputId": "095b930e-1ac2-4aa1-b18a-f3f6e702a9fa"
      },
      "outputs": [
        {
          "data": {
            "text/html": [
              "\n",
              "  <div id=\"df-8faa5938-fc80-43c8-859f-113e366b57d4\" class=\"colab-df-container\">\n",
              "    <div>\n",
              "<style scoped>\n",
              "    .dataframe tbody tr th:only-of-type {\n",
              "        vertical-align: middle;\n",
              "    }\n",
              "\n",
              "    .dataframe tbody tr th {\n",
              "        vertical-align: top;\n",
              "    }\n",
              "\n",
              "    .dataframe thead th {\n",
              "        text-align: right;\n",
              "    }\n",
              "</style>\n",
              "<table border=\"1\" class=\"dataframe\">\n",
              "  <thead>\n",
              "    <tr style=\"text-align: right;\">\n",
              "      <th></th>\n",
              "      <th>InvoiceNo</th>\n",
              "      <th>StockCode</th>\n",
              "      <th>Description</th>\n",
              "      <th>Quantity</th>\n",
              "      <th>InvoiceDate</th>\n",
              "      <th>UnitPrice</th>\n",
              "      <th>CustomerID</th>\n",
              "      <th>Country</th>\n",
              "    </tr>\n",
              "  </thead>\n",
              "  <tbody>\n",
              "    <tr>\n",
              "      <th>0</th>\n",
              "      <td>536365</td>\n",
              "      <td>85123A</td>\n",
              "      <td>WHITE HANGING HEART T-LIGHT HOLDER</td>\n",
              "      <td>6</td>\n",
              "      <td>2010-12-01 08:26:00</td>\n",
              "      <td>2.55</td>\n",
              "      <td>17850.0</td>\n",
              "      <td>United Kingdom</td>\n",
              "    </tr>\n",
              "    <tr>\n",
              "      <th>1</th>\n",
              "      <td>536365</td>\n",
              "      <td>71053</td>\n",
              "      <td>WHITE METAL LANTERN</td>\n",
              "      <td>6</td>\n",
              "      <td>2010-12-01 08:26:00</td>\n",
              "      <td>3.39</td>\n",
              "      <td>17850.0</td>\n",
              "      <td>United Kingdom</td>\n",
              "    </tr>\n",
              "    <tr>\n",
              "      <th>2</th>\n",
              "      <td>536365</td>\n",
              "      <td>84406B</td>\n",
              "      <td>CREAM CUPID HEARTS COAT HANGER</td>\n",
              "      <td>8</td>\n",
              "      <td>2010-12-01 08:26:00</td>\n",
              "      <td>2.75</td>\n",
              "      <td>17850.0</td>\n",
              "      <td>United Kingdom</td>\n",
              "    </tr>\n",
              "    <tr>\n",
              "      <th>3</th>\n",
              "      <td>536365</td>\n",
              "      <td>84029G</td>\n",
              "      <td>KNITTED UNION FLAG HOT WATER BOTTLE</td>\n",
              "      <td>6</td>\n",
              "      <td>2010-12-01 08:26:00</td>\n",
              "      <td>3.39</td>\n",
              "      <td>17850.0</td>\n",
              "      <td>United Kingdom</td>\n",
              "    </tr>\n",
              "    <tr>\n",
              "      <th>4</th>\n",
              "      <td>536365</td>\n",
              "      <td>84029E</td>\n",
              "      <td>RED WOOLLY HOTTIE WHITE HEART.</td>\n",
              "      <td>6</td>\n",
              "      <td>2010-12-01 08:26:00</td>\n",
              "      <td>3.39</td>\n",
              "      <td>17850.0</td>\n",
              "      <td>United Kingdom</td>\n",
              "    </tr>\n",
              "  </tbody>\n",
              "</table>\n",
              "</div>\n",
              "    <div class=\"colab-df-buttons\">\n",
              "\n",
              "  <div class=\"colab-df-container\">\n",
              "    <button class=\"colab-df-convert\" onclick=\"convertToInteractive('df-8faa5938-fc80-43c8-859f-113e366b57d4')\"\n",
              "            title=\"Convert this dataframe to an interactive table.\"\n",
              "            style=\"display:none;\">\n",
              "\n",
              "  <svg xmlns=\"http://www.w3.org/2000/svg\" height=\"24px\" viewBox=\"0 -960 960 960\">\n",
              "    <path d=\"M120-120v-720h720v720H120Zm60-500h600v-160H180v160Zm220 220h160v-160H400v160Zm0 220h160v-160H400v160ZM180-400h160v-160H180v160Zm440 0h160v-160H620v160ZM180-180h160v-160H180v160Zm440 0h160v-160H620v160Z\"/>\n",
              "  </svg>\n",
              "    </button>\n",
              "\n",
              "  <style>\n",
              "    .colab-df-container {\n",
              "      display:flex;\n",
              "      gap: 12px;\n",
              "    }\n",
              "\n",
              "    .colab-df-convert {\n",
              "      background-color: #E8F0FE;\n",
              "      border: none;\n",
              "      border-radius: 50%;\n",
              "      cursor: pointer;\n",
              "      display: none;\n",
              "      fill: #1967D2;\n",
              "      height: 32px;\n",
              "      padding: 0 0 0 0;\n",
              "      width: 32px;\n",
              "    }\n",
              "\n",
              "    .colab-df-convert:hover {\n",
              "      background-color: #E2EBFA;\n",
              "      box-shadow: 0px 1px 2px rgba(60, 64, 67, 0.3), 0px 1px 3px 1px rgba(60, 64, 67, 0.15);\n",
              "      fill: #174EA6;\n",
              "    }\n",
              "\n",
              "    .colab-df-buttons div {\n",
              "      margin-bottom: 4px;\n",
              "    }\n",
              "\n",
              "    [theme=dark] .colab-df-convert {\n",
              "      background-color: #3B4455;\n",
              "      fill: #D2E3FC;\n",
              "    }\n",
              "\n",
              "    [theme=dark] .colab-df-convert:hover {\n",
              "      background-color: #434B5C;\n",
              "      box-shadow: 0px 1px 3px 1px rgba(0, 0, 0, 0.15);\n",
              "      filter: drop-shadow(0px 1px 2px rgba(0, 0, 0, 0.3));\n",
              "      fill: #FFFFFF;\n",
              "    }\n",
              "  </style>\n",
              "\n",
              "    <script>\n",
              "      const buttonEl =\n",
              "        document.querySelector('#df-8faa5938-fc80-43c8-859f-113e366b57d4 button.colab-df-convert');\n",
              "      buttonEl.style.display =\n",
              "        google.colab.kernel.accessAllowed ? 'block' : 'none';\n",
              "\n",
              "      async function convertToInteractive(key) {\n",
              "        const element = document.querySelector('#df-8faa5938-fc80-43c8-859f-113e366b57d4');\n",
              "        const dataTable =\n",
              "          await google.colab.kernel.invokeFunction('convertToInteractive',\n",
              "                                                    [key], {});\n",
              "        if (!dataTable) return;\n",
              "\n",
              "        const docLinkHtml = 'Like what you see? Visit the ' +\n",
              "          '<a target=\"_blank\" href=https://colab.research.google.com/notebooks/data_table.ipynb>data table notebook</a>'\n",
              "          + ' to learn more about interactive tables.';\n",
              "        element.innerHTML = '';\n",
              "        dataTable['output_type'] = 'display_data';\n",
              "        await google.colab.output.renderOutput(dataTable, element);\n",
              "        const docLink = document.createElement('div');\n",
              "        docLink.innerHTML = docLinkHtml;\n",
              "        element.appendChild(docLink);\n",
              "      }\n",
              "    </script>\n",
              "  </div>\n",
              "\n",
              "\n",
              "<div id=\"df-db847568-9bf7-473f-bbb7-f24706bf0f5e\">\n",
              "  <button class=\"colab-df-quickchart\" onclick=\"quickchart('df-db847568-9bf7-473f-bbb7-f24706bf0f5e')\"\n",
              "            title=\"Suggest charts.\"\n",
              "            style=\"display:none;\">\n",
              "\n",
              "<svg xmlns=\"http://www.w3.org/2000/svg\" height=\"24px\"viewBox=\"0 0 24 24\"\n",
              "     width=\"24px\">\n",
              "    <g>\n",
              "        <path d=\"M19 3H5c-1.1 0-2 .9-2 2v14c0 1.1.9 2 2 2h14c1.1 0 2-.9 2-2V5c0-1.1-.9-2-2-2zM9 17H7v-7h2v7zm4 0h-2V7h2v10zm4 0h-2v-4h2v4z\"/>\n",
              "    </g>\n",
              "</svg>\n",
              "  </button>\n",
              "\n",
              "<style>\n",
              "  .colab-df-quickchart {\n",
              "      --bg-color: #E8F0FE;\n",
              "      --fill-color: #1967D2;\n",
              "      --hover-bg-color: #E2EBFA;\n",
              "      --hover-fill-color: #174EA6;\n",
              "      --disabled-fill-color: #AAA;\n",
              "      --disabled-bg-color: #DDD;\n",
              "  }\n",
              "\n",
              "  [theme=dark] .colab-df-quickchart {\n",
              "      --bg-color: #3B4455;\n",
              "      --fill-color: #D2E3FC;\n",
              "      --hover-bg-color: #434B5C;\n",
              "      --hover-fill-color: #FFFFFF;\n",
              "      --disabled-bg-color: #3B4455;\n",
              "      --disabled-fill-color: #666;\n",
              "  }\n",
              "\n",
              "  .colab-df-quickchart {\n",
              "    background-color: var(--bg-color);\n",
              "    border: none;\n",
              "    border-radius: 50%;\n",
              "    cursor: pointer;\n",
              "    display: none;\n",
              "    fill: var(--fill-color);\n",
              "    height: 32px;\n",
              "    padding: 0;\n",
              "    width: 32px;\n",
              "  }\n",
              "\n",
              "  .colab-df-quickchart:hover {\n",
              "    background-color: var(--hover-bg-color);\n",
              "    box-shadow: 0 1px 2px rgba(60, 64, 67, 0.3), 0 1px 3px 1px rgba(60, 64, 67, 0.15);\n",
              "    fill: var(--button-hover-fill-color);\n",
              "  }\n",
              "\n",
              "  .colab-df-quickchart-complete:disabled,\n",
              "  .colab-df-quickchart-complete:disabled:hover {\n",
              "    background-color: var(--disabled-bg-color);\n",
              "    fill: var(--disabled-fill-color);\n",
              "    box-shadow: none;\n",
              "  }\n",
              "\n",
              "  .colab-df-spinner {\n",
              "    border: 2px solid var(--fill-color);\n",
              "    border-color: transparent;\n",
              "    border-bottom-color: var(--fill-color);\n",
              "    animation:\n",
              "      spin 1s steps(1) infinite;\n",
              "  }\n",
              "\n",
              "  @keyframes spin {\n",
              "    0% {\n",
              "      border-color: transparent;\n",
              "      border-bottom-color: var(--fill-color);\n",
              "      border-left-color: var(--fill-color);\n",
              "    }\n",
              "    20% {\n",
              "      border-color: transparent;\n",
              "      border-left-color: var(--fill-color);\n",
              "      border-top-color: var(--fill-color);\n",
              "    }\n",
              "    30% {\n",
              "      border-color: transparent;\n",
              "      border-left-color: var(--fill-color);\n",
              "      border-top-color: var(--fill-color);\n",
              "      border-right-color: var(--fill-color);\n",
              "    }\n",
              "    40% {\n",
              "      border-color: transparent;\n",
              "      border-right-color: var(--fill-color);\n",
              "      border-top-color: var(--fill-color);\n",
              "    }\n",
              "    60% {\n",
              "      border-color: transparent;\n",
              "      border-right-color: var(--fill-color);\n",
              "    }\n",
              "    80% {\n",
              "      border-color: transparent;\n",
              "      border-right-color: var(--fill-color);\n",
              "      border-bottom-color: var(--fill-color);\n",
              "    }\n",
              "    90% {\n",
              "      border-color: transparent;\n",
              "      border-bottom-color: var(--fill-color);\n",
              "    }\n",
              "  }\n",
              "</style>\n",
              "\n",
              "  <script>\n",
              "    async function quickchart(key) {\n",
              "      const quickchartButtonEl =\n",
              "        document.querySelector('#' + key + ' button');\n",
              "      quickchartButtonEl.disabled = true;  // To prevent multiple clicks.\n",
              "      quickchartButtonEl.classList.add('colab-df-spinner');\n",
              "      try {\n",
              "        const charts = await google.colab.kernel.invokeFunction(\n",
              "            'suggestCharts', [key], {});\n",
              "      } catch (error) {\n",
              "        console.error('Error during call to suggestCharts:', error);\n",
              "      }\n",
              "      quickchartButtonEl.classList.remove('colab-df-spinner');\n",
              "      quickchartButtonEl.classList.add('colab-df-quickchart-complete');\n",
              "    }\n",
              "    (() => {\n",
              "      let quickchartButtonEl =\n",
              "        document.querySelector('#df-db847568-9bf7-473f-bbb7-f24706bf0f5e button');\n",
              "      quickchartButtonEl.style.display =\n",
              "        google.colab.kernel.accessAllowed ? 'block' : 'none';\n",
              "    })();\n",
              "  </script>\n",
              "</div>\n",
              "    </div>\n",
              "  </div>\n"
            ],
            "text/plain": [
              "  InvoiceNo StockCode                          Description  Quantity  \\\n",
              "0    536365    85123A   WHITE HANGING HEART T-LIGHT HOLDER         6   \n",
              "1    536365     71053                  WHITE METAL LANTERN         6   \n",
              "2    536365    84406B       CREAM CUPID HEARTS COAT HANGER         8   \n",
              "3    536365    84029G  KNITTED UNION FLAG HOT WATER BOTTLE         6   \n",
              "4    536365    84029E       RED WOOLLY HOTTIE WHITE HEART.         6   \n",
              "\n",
              "          InvoiceDate  UnitPrice  CustomerID         Country  \n",
              "0 2010-12-01 08:26:00       2.55     17850.0  United Kingdom  \n",
              "1 2010-12-01 08:26:00       3.39     17850.0  United Kingdom  \n",
              "2 2010-12-01 08:26:00       2.75     17850.0  United Kingdom  \n",
              "3 2010-12-01 08:26:00       3.39     17850.0  United Kingdom  \n",
              "4 2010-12-01 08:26:00       3.39     17850.0  United Kingdom  "
            ]
          },
          "execution_count": 15,
          "metadata": {},
          "output_type": "execute_result"
        }
      ],
      "source": [
        "# Dataset First Look\n",
        "df.head()"
      ]
    },
    {
      "cell_type": "markdown",
      "metadata": {
        "id": "Iu3wgQFb39tG"
      },
      "source": [
        "### Dataset Rows & Columns count"
      ]
    },
    {
      "cell_type": "code",
      "execution_count": null,
      "metadata": {
        "colab": {
          "base_uri": "https://localhost:8080/"
        },
        "id": "lHSppVwn4BNb",
        "outputId": "1b81ecb0-b980-482e-b219-d1a88f1ff7e9"
      },
      "outputs": [
        {
          "data": {
            "text/plain": [
              "(541909, 8)"
            ]
          },
          "execution_count": 16,
          "metadata": {},
          "output_type": "execute_result"
        }
      ],
      "source": [
        "# Dataset Rows & Columns count\n",
        "df.shape"
      ]
    },
    {
      "cell_type": "markdown",
      "metadata": {
        "id": "tHu5jvra5NV2"
      },
      "source": [
        "###Dataset Information"
      ]
    },
    {
      "cell_type": "code",
      "execution_count": 5,
      "metadata": {
        "colab": {
          "base_uri": "https://localhost:8080/",
          "height": 216
        },
        "id": "Eg_YH5SE5jEJ",
        "outputId": "35d85830-bc7a-4263-dcf2-a0c8a52c4809"
      },
      "outputs": [
        {
          "output_type": "error",
          "ename": "NameError",
          "evalue": "ignored",
          "traceback": [
            "\u001b[0;31m---------------------------------------------------------------------------\u001b[0m",
            "\u001b[0;31mNameError\u001b[0m                                 Traceback (most recent call last)",
            "\u001b[0;32m<ipython-input-5-b5618eb81d92>\u001b[0m in \u001b[0;36m<cell line: 2>\u001b[0;34m()\u001b[0m\n\u001b[1;32m      1\u001b[0m \u001b[0;31m# Dataset Info\u001b[0m\u001b[0;34m\u001b[0m\u001b[0;34m\u001b[0m\u001b[0m\n\u001b[0;32m----> 2\u001b[0;31m \u001b[0mdf\u001b[0m\u001b[0;34m.\u001b[0m\u001b[0minfo\u001b[0m\u001b[0;34m(\u001b[0m\u001b[0;34m)\u001b[0m\u001b[0;34m\u001b[0m\u001b[0;34m\u001b[0m\u001b[0m\n\u001b[0m\u001b[1;32m      3\u001b[0m \u001b[0mdf\u001b[0m\u001b[0;34m.\u001b[0m\u001b[0mdescribe\u001b[0m\u001b[0;34m(\u001b[0m\u001b[0;34m)\u001b[0m\u001b[0;34m\u001b[0m\u001b[0;34m\u001b[0m\u001b[0m\n",
            "\u001b[0;31mNameError\u001b[0m: name 'df' is not defined"
          ]
        }
      ],
      "source": [
        "# Dataset Info\n",
        "df.info()\n",
        "df.describe()"
      ]
    },
    {
      "cell_type": "markdown",
      "metadata": {
        "id": "fCbvmB9r52VH"
      },
      "source": [
        "####Duplicate Values"
      ]
    },
    {
      "cell_type": "code",
      "execution_count": null,
      "metadata": {
        "colab": {
          "base_uri": "https://localhost:8080/"
        },
        "id": "1q2TzViU5481",
        "outputId": "519a2edb-0f4f-4f55-e8fb-a3142f3b86f2"
      },
      "outputs": [
        {
          "data": {
            "text/plain": [
              "5268"
            ]
          },
          "execution_count": 18,
          "metadata": {},
          "output_type": "execute_result"
        }
      ],
      "source": [
        "# Dataset Duplicate Value Count\n",
        "\n",
        "df.duplicated().sum()"
      ]
    },
    {
      "cell_type": "markdown",
      "metadata": {
        "id": "TdSjJVMT6D8W"
      },
      "source": [
        "####Missing Values/Null Values"
      ]
    },
    {
      "cell_type": "code",
      "execution_count": null,
      "metadata": {
        "colab": {
          "base_uri": "https://localhost:8080/"
        },
        "id": "F6Wak7i36L3n",
        "outputId": "65e1296f-cb18-4267-cf8f-181e018dc8a9"
      },
      "outputs": [
        {
          "data": {
            "text/plain": [
              "InvoiceNo           0\n",
              "StockCode           0\n",
              "Description      1454\n",
              "Quantity            0\n",
              "InvoiceDate         0\n",
              "UnitPrice           0\n",
              "CustomerID     135080\n",
              "Country             0\n",
              "dtype: int64"
            ]
          },
          "execution_count": 19,
          "metadata": {},
          "output_type": "execute_result"
        }
      ],
      "source": [
        "# Missing Values/Null Values Count\n",
        "df.isnull().sum()"
      ]
    },
    {
      "cell_type": "code",
      "execution_count": null,
      "metadata": {
        "colab": {
          "base_uri": "https://localhost:8080/",
          "height": 503
        },
        "id": "gQnm7yfB7RZ8",
        "outputId": "d5114301-09bb-4f3f-f9fb-4d397fb17123"
      },
      "outputs": [
        {
          "data": {
            "text/plain": [
              "<Axes: >"
            ]
          },
          "execution_count": 20,
          "metadata": {},
          "output_type": "execute_result"
        },
        {
          "data": {
            "image/png": "[encoded data removed]",
            "text/plain": [
              "<Figure size 2500x1000 with 3 Axes>"
            ]
          },
          "metadata": {},
          "output_type": "display_data"
        }
      ],
      "source": [
        "# Visualizing the missing values\n",
        "import missingno as msno\n",
        "msno.bar(df)"
      ]
    },
    {
      "cell_type": "markdown",
      "metadata": {
        "id": "uD71nA_c7EWU"
      },
      "source": [
        "###What did you know about your dataset?"
      ]
    },
    {
      "cell_type": "markdown",
      "metadata": {
        "id": "eys8R6jX9i6s"
      },
      "source": [
        "The data set contains information of different online customer, including invoice number, stock code, quantity, etc. (details in section below).\n",
        "\n",
        "Out dataframe have 5268 duplicates, and a number of NAN in 2 columns: discription has 1454 and customer id has 135080 (shown in graph above)."
      ]
    },
    {
      "cell_type": "markdown",
      "metadata": {
        "id": "-HKP5MtB_MT-"
      },
      "source": [
        "##***2. Understanding Your Variables***"
      ]
    },
    {
      "cell_type": "code",
      "execution_count": null,
      "metadata": {
        "colab": {
          "base_uri": "https://localhost:8080/"
        },
        "id": "NBE8IQ-K_Y1A",
        "outputId": "0508e4bc-a6f9-4325-edf6-95e0656b2d61"
      },
      "outputs": [
        {
          "data": {
            "text/plain": [
              "Index(['InvoiceNo', 'StockCode', 'Description', 'Quantity', 'InvoiceDate',\n",
              "       'UnitPrice', 'CustomerID', 'Country'],\n",
              "      dtype='object')"
            ]
          },
          "execution_count": 21,
          "metadata": {},
          "output_type": "execute_result"
        }
      ],
      "source": [
        "# Dataset Columns\n",
        "\n",
        "df.columns"
      ]
    },
    {
      "cell_type": "markdown",
      "metadata": {
        "id": "qhKj4AIQpBB8"
      },
      "source": [
        "# ***Sirisha workspace****"
      ]
    },
    {
      "cell_type": "code",
      "execution_count": null,
      "metadata": {
        "colab": {
          "base_uri": "https://localhost:8080/"
        },
        "id": "_4FQdmS5pLYd",
        "outputId": "37b838c7-7e66-4111-c874-13ac4019941e"
      },
      "outputs": [
        {
          "name": "stdout",
          "output_type": "stream",
          "text": [
            "['Quantity', 'UnitPrice', 'CustomerID']\n"
          ]
        }
      ],
      "source": [
        "num_features= list(df.select_dtypes(['int64','float64']))\n",
        "print(num_features)\n"
      ]
    },
    {
      "cell_type": "markdown",
      "metadata": {
        "id": "xeeG4_oBo7bX"
      },
      "source": [
        "# Triveni workspace"
      ]
    },
    {
      "cell_type": "code",
      "execution_count": null,
      "metadata": {
        "id": "qITTxVE6pM88"
      },
      "outputs": [],
      "source": []
    }
  ],
  "metadata": {
    "colab": {
      "provenance": [],
      "collapsed_sections": [
        "uD71nA_c7EWU"
      ],
      "include_colab_link": true
    },
    "kernelspec": {
      "display_name": "Python 3",
      "name": "python3"
    },
    "language_info": {
      "name": "python"
    }
  },
  "nbformat": 4,
  "nbformat_minor": 0
}